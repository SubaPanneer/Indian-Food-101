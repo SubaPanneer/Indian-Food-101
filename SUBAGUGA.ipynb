{
 "cells": [
  {
   "cell_type": "code",
   "execution_count": 1,
   "id": "83165dc8",
   "metadata": {
    "scrolled": true
   },
   "outputs": [
    {
     "name": "stdout",
     "output_type": "stream",
     "text": [
      "Requirement already satisfied: dash in c:\\users\\rajimeena\\anaconda3\\lib\\site-packages (2.9.1)\n",
      "Requirement already satisfied: Flask>=1.0.4 in c:\\users\\rajimeena\\anaconda3\\lib\\site-packages (from dash) (1.1.2)\n",
      "Requirement already satisfied: dash-core-components==2.0.0 in c:\\users\\rajimeena\\anaconda3\\lib\\site-packages (from dash) (2.0.0)\n",
      "Requirement already satisfied: plotly>=5.0.0 in c:\\users\\rajimeena\\anaconda3\\lib\\site-packages (from dash) (5.9.0)\n",
      "Requirement already satisfied: dash-table==5.0.0 in c:\\users\\rajimeena\\anaconda3\\lib\\site-packages (from dash) (5.0.0)\n",
      "Requirement already satisfied: dash-html-components==2.0.0 in c:\\users\\rajimeena\\anaconda3\\lib\\site-packages (from dash) (2.0.0)\n",
      "Requirement already satisfied: Jinja2>=2.10.1 in c:\\users\\rajimeena\\anaconda3\\lib\\site-packages (from Flask>=1.0.4->dash) (2.11.3)\n",
      "Requirement already satisfied: itsdangerous>=0.24 in c:\\users\\rajimeena\\anaconda3\\lib\\site-packages (from Flask>=1.0.4->dash) (2.0.1)\n",
      "Requirement already satisfied: Werkzeug>=0.15 in c:\\users\\rajimeena\\anaconda3\\lib\\site-packages (from Flask>=1.0.4->dash) (2.0.3)\n",
      "Requirement already satisfied: click>=5.1 in c:\\users\\rajimeena\\anaconda3\\lib\\site-packages (from Flask>=1.0.4->dash) (8.0.4)\n",
      "Requirement already satisfied: tenacity>=6.2.0 in c:\\users\\rajimeena\\anaconda3\\lib\\site-packages (from plotly>=5.0.0->dash) (8.0.1)\n",
      "Requirement already satisfied: colorama in c:\\users\\rajimeena\\anaconda3\\lib\\site-packages (from click>=5.1->Flask>=1.0.4->dash) (0.4.5)\n",
      "Requirement already satisfied: MarkupSafe>=0.23 in c:\\users\\rajimeena\\anaconda3\\lib\\site-packages (from Jinja2>=2.10.1->Flask>=1.0.4->dash) (2.0.1)\n",
      "Note: you may need to restart the kernel to use updated packages.\n"
     ]
    }
   ],
   "source": [
    "pip install dash"
   ]
  },
  {
   "cell_type": "code",
   "execution_count": 2,
   "id": "aa013075",
   "metadata": {},
   "outputs": [],
   "source": [
    "import pandas as pd\n",
    "import dash\n",
    "from dash import dcc\n",
    "from dash import html\n",
    "import plotly.express as px\n"
   ]
  },
  {
   "cell_type": "code",
   "execution_count": 3,
   "id": "87fefda0",
   "metadata": {},
   "outputs": [],
   "source": [
    "df = pd.read_csv('indian_food.csv')"
   ]
  },
  {
   "cell_type": "code",
   "execution_count": 4,
   "id": "c3068edc",
   "metadata": {},
   "outputs": [],
   "source": [
    "app = dash.Dash(__name__)\n",
    "\n",
    "app.layout = html.Div(children=[\n",
    "   html.H1(children='Indian_Food Dashboard'),\n",
    "   html.Div(children='''\n",
    "       Analyzing the Indian_Food using Plotly Dash\n",
    "   '''),\n",
    "   dcc.Graph(\n",
    "       id='histogram',\n",
    "       figure={\n",
    "           'data': [\n",
    "               {'x': df['prep_time'], 'type': 'histogram', 'name': 'prep_time'},\n",
    "           ],\n",
    "           'layout': {\n",
    "               'title': 'prep_time of indian_food'\n",
    "           }\n",
    "       }\n",
    "   ),\n",
    "   dcc.Graph(\n",
    "       id='boxplot',\n",
    "       figure={\n",
    "           'data': [\n",
    "               {'y': df['flavor_profile'], 'type': 'box', 'name': 'flavor_profile'},\n",
    "           ],\n",
    "           'layout': {\n",
    "               'title': 'Distribution of flavor_profile'\n",
    "           }\n",
    "       }\n",
    "   ),\n",
    "   dcc.Graph(\n",
    "       id='scatterplot',\n",
    "       figure={\n",
    "           'data': [\n",
    "               {'x': df['state'], 'y': df['prep_time'], 'mode': 'markers', 'name': 'state vs.prep_time'},\n",
    "           ],\n",
    "           'layout': {\n",
    "               'title': 'state vs. prep_time'\n",
    "           }\n",
    "       }\n",
    "   ),\n",
    "   dcc.Graph(\n",
    "       id='barchart',\n",
    "       figure={\n",
    "           'data': [\n",
    "               {'x': df['cook_time'], 'type': 'bar', 'name': 'cook_time'},\n",
    "           ],\n",
    "           'layout': {\n",
    "               'title': 'cook_time Distribution'\n",
    "           }\n",
    "       }\n",
    "   ),\n",
    "   dcc.Graph(\n",
    "       id='mosaicplot',\n",
    "       figure=px.histogram(df, x=\"course\", color=\"cook_time\", barmode=\"overlay\", nbins=10, width=800, height=500)\n",
    "   )\n",
    "    ])"
   ]
  },
  {
   "cell_type": "code",
   "execution_count": null,
   "id": "fe74a9f3",
   "metadata": {},
   "outputs": [
    {
     "name": "stdout",
     "output_type": "stream",
     "text": [
      "Dash is running on http://127.0.0.1:4050/\n",
      "\n",
      " * Serving Flask app \"__main__\" (lazy loading)\n",
      " * Environment: production\n",
      "\u001b[31m   WARNING: This is a development server. Do not use it in a production deployment.\u001b[0m\n",
      "\u001b[2m   Use a production WSGI server instead.\u001b[0m\n",
      " * Debug mode: off\n"
     ]
    },
    {
     "name": "stderr",
     "output_type": "stream",
     "text": [
      " * Running on http://127.0.0.1:4050/ (Press CTRL+C to quit)\n"
     ]
    }
   ],
   "source": [
    "if __name__ == '__main__':\n",
    "   app.run_server(port=4050)"
   ]
  },
  {
   "cell_type": "code",
   "execution_count": null,
   "id": "16b2cab2",
   "metadata": {},
   "outputs": [],
   "source": []
  }
 ],
 "metadata": {
  "kernelspec": {
   "display_name": "Python 3 (ipykernel)",
   "language": "python",
   "name": "python3"
  },
  "language_info": {
   "codemirror_mode": {
    "name": "ipython",
    "version": 3
   },
   "file_extension": ".py",
   "mimetype": "text/x-python",
   "name": "python",
   "nbconvert_exporter": "python",
   "pygments_lexer": "ipython3",
   "version": "3.9.13"
  }
 },
 "nbformat": 4,
 "nbformat_minor": 5
}
